{
 "cells": [
  {
   "cell_type": "code",
   "execution_count": 1,
   "id": "falling-court",
   "metadata": {},
   "outputs": [],
   "source": [
    "# import numpy as np\n",
    "# import xarray as xr\n",
    "# import datetime'\n",
    "import matplotlib.pyplot as plt\n",
    "%matplotlib inline\n",
    "\n",
    "# from attributes import FIELDS, ATTRIBUTES\n",
    "from convert_abscal_his import HatproBinAbscalHis"
   ]
  },
  {
   "cell_type": "code",
   "execution_count": 2,
   "id": "golden-diabetes",
   "metadata": {},
   "outputs": [],
   "source": [
    "file = 'ABSCAL.HIS'\n",
    "obj = HatproBinAbscalHis(file)\n",
    "\n",
    "ds = obj.xrdata"
   ]
  },
  {
   "cell_type": "code",
   "execution_count": null,
   "id": "incorporated-blood",
   "metadata": {},
   "outputs": [],
   "source": [
    "ds"
   ]
  },
  {
   "cell_type": "code",
   "execution_count": null,
   "id": "approved-catering",
   "metadata": {},
   "outputs": [],
   "source": [
    "ds_small = ds[['gain', 'temp_noise', 'temp_sys', 'alpha']]\n",
    "\n",
    "with plt.style.context(['default']):\n",
    "\n",
    "    figure, ax = plt.subplots(4, 2, figsize=(10, 4*2.5))\n",
    "\n",
    "    latest_plot_kwargs = {'lw': '2'}\n",
    "    second_latest_plot_kwargs = {'lw': '2'}\n",
    "    older_plot_kwargs = {'lw': '1', 'color': 'lightgrey'}\n",
    "\n",
    "    i = 0\n",
    "    for vars in ds_small.data_vars:\n",
    "        # print(vars)\n",
    "        ds_small.isel(n_samples=slice(1, -2), freq=slice(0, 7))[vars].plot(\n",
    "            hue='n_samples',\n",
    "            ax=ax[i, 0],\n",
    "            label='',\n",
    "            **older_plot_kwargs)\n",
    "        ds_small.isel(n_samples=0, freq=slice(0, 7))[vars].plot(\n",
    "            hue='n_samples',\n",
    "            ax=ax[i, 0],\n",
    "            label='old',\n",
    "            **older_plot_kwargs)\n",
    "        ds_small.isel(n_samples=-2, freq=slice(0, 7))[vars].plot(\n",
    "            hue='n_samples',\n",
    "            ax=ax[i, 0],\n",
    "            label='previous',\n",
    "            **second_latest_plot_kwargs)\n",
    "        ds_small.isel(n_samples=-1, freq=slice(0, 7))[vars].plot(\n",
    "            hue='n_samples',\n",
    "            ax=ax[i, 0],\n",
    "            label='latest',\n",
    "            **latest_plot_kwargs)\n",
    "        ax[i, 0].set_title(ds_small[vars].attrs['long_name'])\n",
    "        ax[i, 0].legend()\n",
    "\n",
    "        ds_small.isel(n_samples=slice(1, -2), freq=slice(7, 14))[vars].plot(\n",
    "            hue='n_samples',\n",
    "            ax=ax[i, 1],\n",
    "            label='',\n",
    "            **older_plot_kwargs)\n",
    "        ds_small.isel(n_samples=0, freq=slice(7, 14))[vars].plot(\n",
    "            hue='n_samples',\n",
    "            ax=ax[i, 1],\n",
    "            label='old',\n",
    "            **older_plot_kwargs)\n",
    "        ds_small.isel(n_samples=-2, freq=slice(7, 14))[vars].plot(\n",
    "            hue='n_samples',\n",
    "            ax=ax[i, 1],\n",
    "            label='previous',\n",
    "            **second_latest_plot_kwargs)\n",
    "        ds_small.isel(n_samples=-1, freq=slice(7, 14))[vars].plot(\n",
    "            hue='n_samples',\n",
    "            ax=ax[i, 1],\n",
    "            label='latest',\n",
    "            **latest_plot_kwargs)\n",
    "        ax[i, 1].set_title(ds_small[vars].attrs['long_name'])\n",
    "        ax[i, 1].legend()\n",
    "\n",
    "        i = i + 1\n",
    "\n",
    "    plt.tight_layout()\n",
    "    # plt.show()\n",
    "    plt.savefig('results_ln2_cal.png')"
   ]
  },
  {
   "cell_type": "code",
   "execution_count": null,
   "id": "altered-success",
   "metadata": {},
   "outputs": [],
   "source": []
  },
  {
   "cell_type": "code",
   "execution_count": null,
   "id": "three-giving",
   "metadata": {},
   "outputs": [],
   "source": []
  },
  {
   "cell_type": "code",
   "execution_count": null,
   "id": "listed-multimedia",
   "metadata": {},
   "outputs": [],
   "source": []
  },
  {
   "cell_type": "code",
   "execution_count": null,
   "id": "respective-carter",
   "metadata": {},
   "outputs": [],
   "source": []
  },
  {
   "cell_type": "code",
   "execution_count": null,
   "id": "reverse-cabinet",
   "metadata": {},
   "outputs": [],
   "source": []
  },
  {
   "cell_type": "code",
   "execution_count": null,
   "id": "reduced-consensus",
   "metadata": {},
   "outputs": [],
   "source": []
  },
  {
   "cell_type": "code",
   "execution_count": null,
   "id": "honest-amazon",
   "metadata": {},
   "outputs": [],
   "source": []
  },
  {
   "cell_type": "code",
   "execution_count": null,
   "id": "taken-marina",
   "metadata": {},
   "outputs": [],
   "source": []
  },
  {
   "cell_type": "code",
   "execution_count": null,
   "id": "olive-formula",
   "metadata": {},
   "outputs": [],
   "source": []
  }
 ],
 "metadata": {
  "kernelspec": {
   "display_name": "Python 3",
   "language": "python",
   "name": "python3"
  },
  "language_info": {
   "codemirror_mode": {
    "name": "ipython",
    "version": 3
   },
   "file_extension": ".py",
   "mimetype": "text/x-python",
   "name": "python",
   "nbconvert_exporter": "python",
   "pygments_lexer": "ipython3",
   "version": "3.7.11"
  }
 },
 "nbformat": 4,
 "nbformat_minor": 5
}
